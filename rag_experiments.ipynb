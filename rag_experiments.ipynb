{
 "cells": [
  {
   "cell_type": "markdown",
   "metadata": {},
   "source": [
    "## The rough plan\n",
    "\n",
    "I want to build a local RAG system, using pgvector (from PostgreSQL) in a Docker container. In this I want to save the embeddings of my personal knowledge base, and be able to query it via prompts. \n",
    "\n",
    "1. Start by creating embeddings from a few files and deciding on a data structure to store them. \n",
    "2. Use the few embeddings to enrich a query to an LLM. \n",
    "3. Set up a Docker container for the vector storage, including an index using pgvector. \n",
    "4. Use the vector storage to query the knowledge base."
   ]
  },
  {
   "cell_type": "code",
   "execution_count": 8,
   "metadata": {},
   "outputs": [],
   "source": [
    "from openai import OpenAI\n",
    "import pandas as pd\n",
    "import glob\n",
    "from markdown_it import MarkdownIt\n",
    "\n",
    "client = OpenAI()"
   ]
  },
  {
   "cell_type": "code",
   "execution_count": 30,
   "metadata": {},
   "outputs": [
    {
     "name": "stdout",
     "output_type": "stream",
     "text": [
      "Summary: Outlier detection, often unsupervised due to lack of labeled data, is critical in fraud detection, requiring a combination of supervised and unsupervised learning and explainable AI techniques to identify and understand anomalies such as fraudulent transactions.\n",
      "Summary: The document offers beginner tips for effectively using GenAI chatbots at work, emphasizing clear task statements, exploring translation options, and providing context to maximize AI capabilities.\n"
     ]
    },
    {
     "data": {
      "text/html": [
       "<div>\n",
       "<style scoped>\n",
       "    .dataframe tbody tr th:only-of-type {\n",
       "        vertical-align: middle;\n",
       "    }\n",
       "\n",
       "    .dataframe tbody tr th {\n",
       "        vertical-align: top;\n",
       "    }\n",
       "\n",
       "    .dataframe thead th {\n",
       "        text-align: right;\n",
       "    }\n",
       "</style>\n",
       "<table border=\"1\" class=\"dataframe\">\n",
       "  <thead>\n",
       "    <tr style=\"text-align: right;\">\n",
       "      <th></th>\n",
       "      <th>title</th>\n",
       "      <th>content</th>\n",
       "      <th>embedding</th>\n",
       "    </tr>\n",
       "  </thead>\n",
       "  <tbody>\n",
       "    <tr>\n",
       "      <th>0</th>\n",
       "      <td>What is Outlier Detection?</td>\n",
       "      <td>Outlier detection, often unsupervised due to l...</td>\n",
       "      <td>[-0.005769381299614906, -0.0009945814963430166...</td>\n",
       "    </tr>\n",
       "    <tr>\n",
       "      <th>1</th>\n",
       "      <td>Beginner Tips for Prompting GenAI Chatbots for...</td>\n",
       "      <td>The document offers beginner tips for effectiv...</td>\n",
       "      <td>[-0.0023354385048151016, -0.03440757468342781,...</td>\n",
       "    </tr>\n",
       "  </tbody>\n",
       "</table>\n",
       "</div>"
      ],
      "text/plain": [
       "                                               title  \\\n",
       "0                         What is Outlier Detection?   \n",
       "1  Beginner Tips for Prompting GenAI Chatbots for...   \n",
       "\n",
       "                                             content  \\\n",
       "0  Outlier detection, often unsupervised due to l...   \n",
       "1  The document offers beginner tips for effectiv...   \n",
       "\n",
       "                                           embedding  \n",
       "0  [-0.005769381299614906, -0.0009945814963430166...  \n",
       "1  [-0.0023354385048151016, -0.03440757468342781,...  "
      ]
     },
     "metadata": {},
     "output_type": "display_data"
    }
   ],
   "source": [
    "md_files = glob.glob(\"*.md\")\n",
    "md_contents = [open(file, \"r\").read() for file in md_files]\n",
    "\n",
    "md = MarkdownIt()\n",
    "\n",
    "data = []\n",
    "for content in md_contents:\n",
    "    tokens = md.parse(content)\n",
    "    # Extract the first headline\n",
    "    headline = None\n",
    "    for token in tokens:\n",
    "        if token.type == \"heading_open\" and token.tag == \"h1\":\n",
    "            # The next token should be the actual text of the heading\n",
    "            headline = tokens[tokens.index(token) + 1].content\n",
    "            break\n",
    "\n",
    "    body = \" \".join(token.content for token in tokens if token.type == \"inline\")\n",
    "\n",
    "    # Generate a short summary of the whole document using OpenAI API\n",
    "    completion = client.chat.completions.create(\n",
    "        model=\"gpt-4o\",\n",
    "        messages=[\n",
    "            {\n",
    "                \"role\": \"developer\",\n",
    "                \"content\": \"Summarize the following document in a short sentence:\",\n",
    "            },\n",
    "            {\"role\": \"user\", \"content\": body},\n",
    "        ],\n",
    "        max_tokens=50,\n",
    "    )\n",
    "    summary = completion.choices[0].message.content\n",
    "    print(\"Summary:\", summary)\n",
    "\n",
    "    embedding_response = client.embeddings.create(\n",
    "        input=body, model=\"text-embedding-3-large\"\n",
    "    )\n",
    "    embedding_vector = embedding_response.data[0].embedding\n",
    "    data.append({\"title\": headline, \"content\": summary, \"embedding\": embedding_vector})\n",
    "\n",
    "\n",
    "df = pd.DataFrame(data)\n",
    "display(df)"
   ]
  },
  {
   "cell_type": "code",
   "execution_count": null,
   "metadata": {},
   "outputs": [],
   "source": []
  }
 ],
 "metadata": {
  "kernelspec": {
   "display_name": "venv",
   "language": "python",
   "name": "python3"
  },
  "language_info": {
   "codemirror_mode": {
    "name": "ipython",
    "version": 3
   },
   "file_extension": ".py",
   "mimetype": "text/x-python",
   "name": "python",
   "nbconvert_exporter": "python",
   "pygments_lexer": "ipython3",
   "version": "3.13.1"
  }
 },
 "nbformat": 4,
 "nbformat_minor": 2
}
